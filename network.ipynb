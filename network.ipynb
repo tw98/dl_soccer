{
 "metadata": {
  "language_info": {
   "codemirror_mode": {
    "name": "ipython",
    "version": 3
   },
   "file_extension": ".py",
   "mimetype": "text/x-python",
   "name": "python",
   "nbconvert_exporter": "python",
   "pygments_lexer": "ipython3",
   "version": "3.8.5"
  },
  "orig_nbformat": 2,
  "kernelspec": {
   "name": "python385jvsc74a57bd066ae305c42bcce0a319b27f528cc973ac63e8c3cd13054f4470f218637fd7c02",
   "display_name": "Python 3.8.5 64-bit ('base': conda)"
  },
  "metadata": {
   "interpreter": {
    "hash": "66ae305c42bcce0a319b27f528cc973ac63e8c3cd13054f4470f218637fd7c02"
   }
  }
 },
 "nbformat": 4,
 "nbformat_minor": 2,
 "cells": [
  {
   "cell_type": "code",
   "execution_count": 24,
   "metadata": {},
   "outputs": [],
   "source": [
    "import torch\n",
    "import torch.nn.functional as F\n",
    "import torch.nn as nn\n",
    "import torch.nn.functional as F\n",
    "import torch.optim as optim\n",
    "\n",
    "import numpy as np\n",
    "import pandas as pd\n",
    "from scipy.stats import zscore"
   ]
  },
  {
   "cell_type": "code",
   "execution_count": 25,
   "metadata": {},
   "outputs": [],
   "source": [
    "country_list = ['england', 'germany', 'france', 'italy', 'spain']\n",
    "dfs = []\n",
    "for country in country_list:\n",
    "    # df = (pd.read_csv(f'data/final_dfs/{country}.csv')).drop(columns=['shot', 'corner', 'freeKickShots', 'redCard', 'yellowCard', 'offside'])\n",
    "    df = (pd.read_csv(f'data/final_dfs/{country}_adv.csv'))\n",
    "    dfs.append(df)\n",
    "\n",
    "game_events = pd.concat(dfs, ignore_index=True)"
   ]
  },
  {
   "cell_type": "code",
   "execution_count": 26,
   "metadata": {},
   "outputs": [
    {
     "output_type": "stream",
     "name": "stdout",
     "text": [
      "(1826, 441)\n['game_id', 'team1_id', 'team1_name', 'team2_id', 'team2_name', 'team1_goals', 'team2_goals', 'team1_win', 'team2_win', 'team1_shot_5', 'team1_shot_10', 'team1_shot_15', 'team1_shot_20', 'team1_shot_25', 'team1_shot_30', 'team1_shot_35', 'team1_shot_40', 'team1_shot_45', 'team1_shot_45+', 'team1_shot_50', 'team1_shot_55', 'team1_shot_60', 'team1_shot_65', 'team1_shot_70', 'team1_shot_75', 'team1_shot_80', 'team1_shot_85', 'team1_shot_90', 'team1_shot_90+', 'team1_corner_5', 'team1_corner_10', 'team1_corner_15', 'team1_corner_20', 'team1_corner_25', 'team1_corner_30', 'team1_corner_35', 'team1_corner_40', 'team1_corner_45', 'team1_corner_45+', 'team1_corner_50', 'team1_corner_55', 'team1_corner_60', 'team1_corner_65', 'team1_corner_70', 'team1_corner_75', 'team1_corner_80', 'team1_corner_85', 'team1_corner_90', 'team1_corner_90+', 'team1_freeKickShots_5', 'team1_freeKickShots_10', 'team1_freeKickShots_15', 'team1_freeKickShots_20', 'team1_freeKickShots_25', 'team1_freeKickShots_30', 'team1_freeKickShots_35', 'team1_freeKickShots_40', 'team1_freeKickShots_45', 'team1_freeKickShots_45+', 'team1_freeKickShots_50', 'team1_freeKickShots_55', 'team1_freeKickShots_60', 'team1_freeKickShots_65', 'team1_freeKickShots_70', 'team1_freeKickShots_75', 'team1_freeKickShots_80', 'team1_freeKickShots_85', 'team1_freeKickShots_90', 'team1_freeKickShots_90+', 'team1_redCard_5', 'team1_redCard_10', 'team1_redCard_15', 'team1_redCard_20', 'team1_redCard_25', 'team1_redCard_30', 'team1_redCard_35', 'team1_redCard_40', 'team1_redCard_45', 'team1_redCard_45+', 'team1_redCard_50', 'team1_redCard_55', 'team1_redCard_60', 'team1_redCard_65', 'team1_redCard_70', 'team1_redCard_75', 'team1_redCard_80', 'team1_redCard_85', 'team1_redCard_90', 'team1_redCard_90+', 'team1_yellowCard_5', 'team1_yellowCard_10', 'team1_yellowCard_15', 'team1_yellowCard_20', 'team1_yellowCard_25', 'team1_yellowCard_30', 'team1_yellowCard_35', 'team1_yellowCard_40', 'team1_yellowCard_45', 'team1_yellowCard_45+', 'team1_yellowCard_50', 'team1_yellowCard_55', 'team1_yellowCard_60', 'team1_yellowCard_65', 'team1_yellowCard_70', 'team1_yellowCard_75', 'team1_yellowCard_80', 'team1_yellowCard_85', 'team1_yellowCard_90', 'team1_yellowCard_90+', 'team1_percentPassFirstThird_5', 'team1_percentPassFirstThird_10', 'team1_percentPassFirstThird_15', 'team1_percentPassFirstThird_20', 'team1_percentPassFirstThird_25', 'team1_percentPassFirstThird_30', 'team1_percentPassFirstThird_35', 'team1_percentPassFirstThird_40', 'team1_percentPassFirstThird_45', 'team1_percentPassFirstThird_45+', 'team1_percentPassFirstThird_50', 'team1_percentPassFirstThird_55', 'team1_percentPassFirstThird_60', 'team1_percentPassFirstThird_65', 'team1_percentPassFirstThird_70', 'team1_percentPassFirstThird_75', 'team1_percentPassFirstThird_80', 'team1_percentPassFirstThird_85', 'team1_percentPassFirstThird_90', 'team1_percentPassFirstThird_90+', 'team1_percentPassSecondThird_5', 'team1_percentPassSecondThird_10', 'team1_percentPassSecondThird_15', 'team1_percentPassSecondThird_20', 'team1_percentPassSecondThird_25', 'team1_percentPassSecondThird_30', 'team1_percentPassSecondThird_35', 'team1_percentPassSecondThird_40', 'team1_percentPassSecondThird_45', 'team1_percentPassSecondThird_45+', 'team1_percentPassSecondThird_50', 'team1_percentPassSecondThird_55', 'team1_percentPassSecondThird_60', 'team1_percentPassSecondThird_65', 'team1_percentPassSecondThird_70', 'team1_percentPassSecondThird_75', 'team1_percentPassSecondThird_80', 'team1_percentPassSecondThird_85', 'team1_percentPassSecondThird_90', 'team1_percentPassSecondThird_90+', 'team1_percentPassFinalThird_5', 'team1_percentPassFinalThird_10', 'team1_percentPassFinalThird_15', 'team1_percentPassFinalThird_20', 'team1_percentPassFinalThird_25', 'team1_percentPassFinalThird_30', 'team1_percentPassFinalThird_35', 'team1_percentPassFinalThird_40', 'team1_percentPassFinalThird_45', 'team1_percentPassFinalThird_45+', 'team1_percentPassFinalThird_50', 'team1_percentPassFinalThird_55', 'team1_percentPassFinalThird_60', 'team1_percentPassFinalThird_65', 'team1_percentPassFinalThird_70', 'team1_percentPassFinalThird_75', 'team1_percentPassFinalThird_80', 'team1_percentPassFinalThird_85', 'team1_percentPassFinalThird_90', 'team1_percentPassFinalThird_90+', 'team1_averagePassLength_5', 'team1_averagePassLength_10', 'team1_averagePassLength_15', 'team1_averagePassLength_20', 'team1_averagePassLength_25', 'team1_averagePassLength_30', 'team1_averagePassLength_35', 'team1_averagePassLength_40', 'team1_averagePassLength_45', 'team1_averagePassLength_45+', 'team1_averagePassLength_50', 'team1_averagePassLength_55', 'team1_averagePassLength_60', 'team1_averagePassLength_65', 'team1_averagePassLength_70', 'team1_averagePassLength_75', 'team1_averagePassLength_80', 'team1_averagePassLength_85', 'team1_averagePassLength_90', 'team1_averagePassLength_90+', 'team2_shot_5', 'team2_shot_10', 'team2_shot_15', 'team2_shot_20', 'team2_shot_25', 'team2_shot_30', 'team2_shot_35', 'team2_shot_40', 'team2_shot_45', 'team2_shot_45+', 'team2_shot_50', 'team2_shot_55', 'team2_shot_60', 'team2_shot_65', 'team2_shot_70', 'team2_shot_75', 'team2_shot_80', 'team2_shot_85', 'team2_shot_90', 'team2_shot_90+', 'team2_corner_5', 'team2_corner_10', 'team2_corner_15', 'team2_corner_20', 'team2_corner_25', 'team2_corner_30', 'team2_corner_35', 'team2_corner_40', 'team2_corner_45', 'team2_corner_45+', 'team2_corner_50', 'team2_corner_55', 'team2_corner_60', 'team2_corner_65', 'team2_corner_70', 'team2_corner_75', 'team2_corner_80', 'team2_corner_85', 'team2_corner_90', 'team2_corner_90+', 'team2_freeKickShots_5', 'team2_freeKickShots_10', 'team2_freeKickShots_15', 'team2_freeKickShots_20', 'team2_freeKickShots_25', 'team2_freeKickShots_30', 'team2_freeKickShots_35', 'team2_freeKickShots_40', 'team2_freeKickShots_45', 'team2_freeKickShots_45+', 'team2_freeKickShots_50', 'team2_freeKickShots_55', 'team2_freeKickShots_60', 'team2_freeKickShots_65', 'team2_freeKickShots_70', 'team2_freeKickShots_75', 'team2_freeKickShots_80', 'team2_freeKickShots_85', 'team2_freeKickShots_90', 'team2_freeKickShots_90+', 'team2_redCard_5', 'team2_redCard_10', 'team2_redCard_15', 'team2_redCard_20', 'team2_redCard_25', 'team2_redCard_30', 'team2_redCard_35', 'team2_redCard_40', 'team2_redCard_45', 'team2_redCard_45+', 'team2_redCard_50', 'team2_redCard_55', 'team2_redCard_60', 'team2_redCard_65', 'team2_redCard_70', 'team2_redCard_75', 'team2_redCard_80', 'team2_redCard_85', 'team2_redCard_90', 'team2_redCard_90+', 'team2_yellowCard_5', 'team2_yellowCard_10', 'team2_yellowCard_15', 'team2_yellowCard_20', 'team2_yellowCard_25', 'team2_yellowCard_30', 'team2_yellowCard_35', 'team2_yellowCard_40', 'team2_yellowCard_45', 'team2_yellowCard_45+', 'team2_yellowCard_50', 'team2_yellowCard_55', 'team2_yellowCard_60', 'team2_yellowCard_65', 'team2_yellowCard_70', 'team2_yellowCard_75', 'team2_yellowCard_80', 'team2_yellowCard_85', 'team2_yellowCard_90', 'team2_yellowCard_90+', 'team2_percentPassFirstThird_5', 'team2_percentPassFirstThird_10', 'team2_percentPassFirstThird_15', 'team2_percentPassFirstThird_20', 'team2_percentPassFirstThird_25', 'team2_percentPassFirstThird_30', 'team2_percentPassFirstThird_35', 'team2_percentPassFirstThird_40', 'team2_percentPassFirstThird_45', 'team2_percentPassFirstThird_45+', 'team2_percentPassFirstThird_50', 'team2_percentPassFirstThird_55', 'team2_percentPassFirstThird_60', 'team2_percentPassFirstThird_65', 'team2_percentPassFirstThird_70', 'team2_percentPassFirstThird_75', 'team2_percentPassFirstThird_80', 'team2_percentPassFirstThird_85', 'team2_percentPassFirstThird_90', 'team2_percentPassFirstThird_90+', 'team2_percentPassSecondThird_5', 'team2_percentPassSecondThird_10', 'team2_percentPassSecondThird_15', 'team2_percentPassSecondThird_20', 'team2_percentPassSecondThird_25', 'team2_percentPassSecondThird_30', 'team2_percentPassSecondThird_35', 'team2_percentPassSecondThird_40', 'team2_percentPassSecondThird_45', 'team2_percentPassSecondThird_45+', 'team2_percentPassSecondThird_50', 'team2_percentPassSecondThird_55', 'team2_percentPassSecondThird_60', 'team2_percentPassSecondThird_65', 'team2_percentPassSecondThird_70', 'team2_percentPassSecondThird_75', 'team2_percentPassSecondThird_80', 'team2_percentPassSecondThird_85', 'team2_percentPassSecondThird_90', 'team2_percentPassSecondThird_90+', 'team2_percentPassFinalThird_5', 'team2_percentPassFinalThird_10', 'team2_percentPassFinalThird_15', 'team2_percentPassFinalThird_20', 'team2_percentPassFinalThird_25', 'team2_percentPassFinalThird_30', 'team2_percentPassFinalThird_35', 'team2_percentPassFinalThird_40', 'team2_percentPassFinalThird_45', 'team2_percentPassFinalThird_45+', 'team2_percentPassFinalThird_50', 'team2_percentPassFinalThird_55', 'team2_percentPassFinalThird_60', 'team2_percentPassFinalThird_65', 'team2_percentPassFinalThird_70', 'team2_percentPassFinalThird_75', 'team2_percentPassFinalThird_80', 'team2_percentPassFinalThird_85', 'team2_percentPassFinalThird_90', 'team2_percentPassFinalThird_90+', 'team2_averagePassLength_5', 'team2_averagePassLength_10', 'team2_averagePassLength_15', 'team2_averagePassLength_20', 'team2_averagePassLength_25', 'team2_averagePassLength_30', 'team2_averagePassLength_35', 'team2_averagePassLength_40', 'team2_averagePassLength_45', 'team2_averagePassLength_45+', 'team2_averagePassLength_50', 'team2_averagePassLength_55', 'team2_averagePassLength_60', 'team2_averagePassLength_65', 'team2_averagePassLength_70', 'team2_averagePassLength_75', 'team2_averagePassLength_80', 'team2_averagePassLength_85', 'team2_averagePassLength_90', 'team2_averagePassLength_90+', 'team1_height', 'team2_height', 'team1_age', 'team2_age', 'team1_acc_5', 'team1_acc_10', 'team1_acc_15', 'team1_acc_20', 'team1_acc_25', 'team1_acc_30', 'team1_acc_35', 'team1_acc_40', 'team1_acc_45', 'team1_acc_50', 'team1_acc_55', 'team1_acc_60', 'team1_acc_65', 'team1_acc_70', 'team1_acc_75', 'team1_acc_80', 'team1_acc_85', 'team2_acc_5', 'team2_acc_10', 'team2_acc_15', 'team2_acc_20', 'team2_acc_25', 'team2_acc_30', 'team2_acc_35', 'team2_acc_40', 'team2_acc_45', 'team2_acc_50', 'team2_acc_55', 'team2_acc_60', 'team2_acc_65', 'team2_acc_70', 'team2_acc_75', 'team2_acc_80', 'team2_acc_85', 'team1_invasion_5', 'team1_invasion_10', 'team1_invasion_15', 'team1_invasion_20', 'team1_invasion_25', 'team1_invasion_30', 'team1_invasion_35', 'team1_invasion_40', 'team1_invasion_45', 'team1_invasion_50', 'team1_invasion_55', 'team1_invasion_60', 'team1_invasion_65', 'team1_invasion_70', 'team1_invasion_75', 'team1_invasion_80', 'team1_invasion_85', 'team2_invasion_5', 'team2_invasion_10', 'team2_invasion_15', 'team2_invasion_20', 'team2_invasion_25', 'team2_invasion_30', 'team2_invasion_35', 'team2_invasion_40', 'team2_invasion_45', 'team2_invasion_50', 'team2_invasion_55', 'team2_invasion_60', 'team2_invasion_65', 'team2_invasion_70', 'team2_invasion_75', 'team2_invasion_80', 'team2_invasion_85']\n"
     ]
    }
   ],
   "source": [
    "print(game_events.shape)\n",
    "print(list(game_events.columns))"
   ]
  },
  {
   "cell_type": "code",
   "execution_count": 27,
   "metadata": {},
   "outputs": [
    {
     "output_type": "execute_result",
     "data": {
      "text/plain": [
       "False"
      ]
     },
     "metadata": {},
     "execution_count": 27
    }
   ],
   "source": [
    "game_events['team2_redCard_20'].isna().any()"
   ]
  },
  {
   "cell_type": "code",
   "execution_count": 28,
   "metadata": {},
   "outputs": [],
   "source": [
    "game_events = game_events.fillna(0)"
   ]
  },
  {
   "cell_type": "code",
   "execution_count": 29,
   "metadata": {},
   "outputs": [],
   "source": [
    "# cols = ['team1_win', 'team1_height', 'team2_height', 'team1_shot', 'team1_corner', 'team1_freeKickShots', 'team1_redCard', 'team1_yellowCard', 'team1_offside', 'team2_shot', 'team2_corner', 'team2_freeKickShots', 'team2_redCard', 'team2_yellowCard', 'team2_offside']\n",
    "# df_dataset = game_events[cols]\n",
    "\n",
    "drop_cols = ['game_id', 'team1_id', 'team1_name', 'team2_id', 'team2_name', 'team1_goals', 'team2_goals', 'team2_win']\n",
    "df_dataset = game_events.drop(columns=drop_cols)"
   ]
  },
  {
   "cell_type": "code",
   "execution_count": 30,
   "metadata": {},
   "outputs": [
    {
     "output_type": "execute_result",
     "data": {
      "text/plain": [
       "0       0\n",
       "1       0\n",
       "2       0\n",
       "3       0\n",
       "4       0\n",
       "       ..\n",
       "1821    0\n",
       "1822    0\n",
       "1823    0\n",
       "1824    0\n",
       "1825    0\n",
       "Name: team2_redCard_20, Length: 1826, dtype: int64"
      ]
     },
     "metadata": {},
     "execution_count": 30
    }
   ],
   "source": [
    "df_dataset['team2_redCard_20']"
   ]
  },
  {
   "cell_type": "code",
   "execution_count": 31,
   "metadata": {},
   "outputs": [],
   "source": [
    "df_dataset.loc[:]['team1_win'] = df_dataset.apply(lambda x: int(x['team1_win']), axis = 'columns')\n",
    "df_dataset = df_dataset.astype('float')"
   ]
  },
  {
   "cell_type": "code",
   "execution_count": 32,
   "metadata": {},
   "outputs": [],
   "source": [
    "# zscore columns of dataframe \n",
    "exclude = set(['team1_win'])\n",
    "for key in (set(df_dataset.keys()) - exclude):\n",
    "    if np.std(df_dataset.loc[:][key]) != 0:\n",
    "        df_dataset.loc[:][key] = zscore(df_dataset[key].astype(float))"
   ]
  },
  {
   "cell_type": "code",
   "execution_count": 33,
   "metadata": {},
   "outputs": [
    {
     "output_type": "execute_result",
     "data": {
      "text/plain": [
       "[]"
      ]
     },
     "metadata": {},
     "execution_count": 33
    }
   ],
   "source": [
    "df_dataset.columns[df_dataset.isna().any()].tolist()"
   ]
  },
  {
   "cell_type": "code",
   "execution_count": 34,
   "metadata": {},
   "outputs": [],
   "source": [
    "dataset = df_dataset.to_numpy()"
   ]
  },
  {
   "cell_type": "code",
   "execution_count": 35,
   "metadata": {},
   "outputs": [
    {
     "output_type": "execute_result",
     "data": {
      "text/plain": [
       "(1826, 433)"
      ]
     },
     "metadata": {},
     "execution_count": 35
    }
   ],
   "source": [
    "dataset.shape"
   ]
  },
  {
   "cell_type": "code",
   "execution_count": 36,
   "metadata": {},
   "outputs": [],
   "source": [
    "n_games, n_features = dataset[:,1:].shape\n",
    "trainset, testset = torch.utils.data.random_split(dataset, [n_games - int(0.25 * n_games), int(0.25 * n_games)])\n",
    "\n",
    "train_loader = torch.utils.data.DataLoader(trainset, batch_size=128, shuffle=True)\n",
    "test_loader = torch.utils.data.DataLoader(testset, batch_size=128, shuffle=True)"
   ]
  },
  {
   "cell_type": "code",
   "execution_count": 37,
   "metadata": {},
   "outputs": [
    {
     "output_type": "execute_result",
     "data": {
      "text/plain": [
       "1826"
      ]
     },
     "metadata": {},
     "execution_count": 37
    }
   ],
   "source": [
    "n_games"
   ]
  },
  {
   "cell_type": "code",
   "execution_count": 87,
   "metadata": {},
   "outputs": [],
   "source": [
    "N_EPOCHS = 50\n",
    "BATCH_SIZE_TRAIN = 32\n",
    "BATCH_SIZE_TEST = 1000\n",
    "LEARNING_RATE = 0.00001\n",
    "\n",
    "LOG_TRAINING = False\n",
    "LOG_INTERVAL = 10\n",
    "\n",
    "# random_seed = 1\n",
    "torch.backends.cudnn.enabled = False\n",
    "# torch.manual_seed(random_seed)"
   ]
  },
  {
   "cell_type": "code",
   "execution_count": 101,
   "metadata": {},
   "outputs": [],
   "source": [
    "# Network Parameters\n",
    "n_hidden_1 = 1024  # 1st layer number of neurons\n",
    "n_hidden_2 = 512  # 2nd layer number of neurons\n",
    "n_hidden_3 = 128  # 3rd layer number of neurons\n",
    "n_hidden_4 = 64  # 3rd layer number of neurons\n",
    "\n",
    "\n",
    "model = nn.Sequential(nn.Linear(n_features, n_hidden_1),\n",
    "                       nn.Tanh(),\n",
    "                       nn.Linear(n_hidden_1, n_hidden_2),\n",
    "                       nn.Tanh(),\n",
    "                       nn.Dropout(0.2),\n",
    "                       nn.Linear(n_hidden_2, n_hidden_3),\n",
    "                       nn.Tanh(),\n",
    "                       nn.Dropout(0.2),\n",
    "                       nn.Linear(n_hidden_3, n_hidden_4),\n",
    "                       nn.Tanh(),\n",
    "                       nn.Linear(n_hidden_4, 1),\n",
    "                       nn.Sigmoid())"
   ]
  },
  {
   "cell_type": "code",
   "execution_count": 102,
   "metadata": {},
   "outputs": [
    {
     "output_type": "execute_result",
     "data": {
      "text/plain": [
       "Sequential(\n",
       "  (0): Linear(in_features=432, out_features=1024, bias=True)\n",
       "  (1): Tanh()\n",
       "  (2): Linear(in_features=1024, out_features=512, bias=True)\n",
       "  (3): Tanh()\n",
       "  (4): Linear(in_features=512, out_features=128, bias=True)\n",
       "  (5): Tanh()\n",
       "  (6): Linear(in_features=128, out_features=64, bias=True)\n",
       "  (7): Tanh()\n",
       "  (8): Linear(in_features=64, out_features=1, bias=True)\n",
       "  (9): Sigmoid()\n",
       ")"
      ]
     },
     "metadata": {},
     "execution_count": 102
    }
   ],
   "source": [
    "model"
   ]
  },
  {
   "cell_type": "code",
   "execution_count": 103,
   "metadata": {},
   "outputs": [],
   "source": [
    "optimizer = optim.Adam(model.parameters(), lr=LEARNING_RATE)\n",
    "# criterion = nn.MSELoss()\n",
    "criterion = nn.BCELoss()"
   ]
  },
  {
   "cell_type": "code",
   "execution_count": 104,
   "metadata": {},
   "outputs": [],
   "source": [
    "def eval(dataset):\n",
    "    model.eval()\n",
    "    eval_loader = torch.utils.data.DataLoader(dataset, batch_size=len(dataset),shuffle=False)\n",
    "    \n",
    "    batch = next(iter(eval_loader))    \n",
    "    targets = batch[:,0].float()\n",
    "    data = batch[:,1:].float()\n",
    "\n",
    "    truth_team1_win = np.count_nonzero(targets.numpy() == 1.)\n",
    "    truth_team2_win = np.count_nonzero(targets.numpy() == 0.)\n",
    "\n",
    "    with torch.no_grad():\n",
    "        output = model.forward(data)\n",
    "        pred = torch.round(output.view(-1))\n",
    "\n",
    "        correct = pred.eq(targets.data.view_as(pred)).sum().item()\n",
    "\n",
    "        pred_team1_win = np.count_nonzero(pred.numpy() == 1.)\n",
    "        pred_team2_win = np.count_nonzero(pred.numpy() == 0.)\n",
    "\n",
    "    model.train()\n",
    "    \n",
    "    print('Test Set Accuracy {}/{} ({})'.format(correct, len(dataset), round(correct/len(dataset), 5)))\n",
    "    # print('Team 1 Win: P: {}, T: {} -- Team 2 Win: P: {}, T: {}'.format(pred_team1_win, truth_team1_win, pred_team2_win, truth_team2_win))\n",
    "\n",
    "def train():\n",
    "    for ep in range(1, N_EPOCHS+1):\n",
    "        model.train()\n",
    "        print(f' -- Epoch {ep} --')\n",
    "        loss_sum = 0\n",
    "\n",
    "        for batch_idx, batch in enumerate(train_loader):\n",
    "            optimizer.zero_grad()\n",
    "\n",
    "            targets = batch[:,0].float()\n",
    "\n",
    "            data = batch[:,1:]\n",
    "\n",
    "            pred = model.forward(data.float())\n",
    "\n",
    "            loss = criterion(pred.view(-1), targets)\n",
    "            \n",
    "            loss.backward()\n",
    "\n",
    "            optimizer.step()\n",
    "\n",
    "        eval(testset)\n",
    "        "
   ]
  },
  {
   "cell_type": "code",
   "execution_count": 105,
   "metadata": {
    "tags": []
   },
   "outputs": [
    {
     "output_type": "stream",
     "name": "stdout",
     "text": [
      "BEFORE TRAINING\n",
      "Test Set Accuracy 235/456 (0.51535)\n",
      "train...\n",
      " -- Epoch 1 --\n",
      "Test Set Accuracy 264/456 (0.57895)\n",
      " -- Epoch 2 --\n",
      "Test Set Accuracy 277/456 (0.60746)\n",
      " -- Epoch 3 --\n",
      "Test Set Accuracy 293/456 (0.64254)\n",
      " -- Epoch 4 --\n",
      "Test Set Accuracy 296/456 (0.64912)\n",
      " -- Epoch 5 --\n",
      "Test Set Accuracy 298/456 (0.65351)\n",
      " -- Epoch 6 --\n",
      "Test Set Accuracy 302/456 (0.66228)\n",
      " -- Epoch 7 --\n",
      "Test Set Accuracy 302/456 (0.66228)\n",
      " -- Epoch 8 --\n",
      "Test Set Accuracy 304/456 (0.66667)\n",
      " -- Epoch 9 --\n",
      "Test Set Accuracy 307/456 (0.67325)\n",
      " -- Epoch 10 --\n",
      "Test Set Accuracy 308/456 (0.67544)\n",
      " -- Epoch 11 --\n",
      "Test Set Accuracy 310/456 (0.67982)\n",
      " -- Epoch 12 --\n",
      "Test Set Accuracy 311/456 (0.68202)\n",
      " -- Epoch 13 --\n",
      "Test Set Accuracy 310/456 (0.67982)\n",
      " -- Epoch 14 --\n",
      "Test Set Accuracy 311/456 (0.68202)\n",
      " -- Epoch 15 --\n",
      "Test Set Accuracy 312/456 (0.68421)\n",
      " -- Epoch 16 --\n",
      "Test Set Accuracy 313/456 (0.6864)\n",
      " -- Epoch 17 --\n",
      "Test Set Accuracy 313/456 (0.6864)\n",
      " -- Epoch 18 --\n",
      "Test Set Accuracy 313/456 (0.6864)\n",
      " -- Epoch 19 --\n",
      "Test Set Accuracy 313/456 (0.6864)\n",
      " -- Epoch 20 --\n",
      "Test Set Accuracy 314/456 (0.6886)\n",
      " -- Epoch 21 --\n",
      "Test Set Accuracy 315/456 (0.69079)\n",
      " -- Epoch 22 --\n",
      "Test Set Accuracy 314/456 (0.6886)\n",
      " -- Epoch 23 --\n",
      "Test Set Accuracy 314/456 (0.6886)\n",
      " -- Epoch 24 --\n",
      "Test Set Accuracy 315/456 (0.69079)\n",
      " -- Epoch 25 --\n",
      "Test Set Accuracy 316/456 (0.69298)\n",
      " -- Epoch 26 --\n",
      "Test Set Accuracy 314/456 (0.6886)\n",
      " -- Epoch 27 --\n",
      "Test Set Accuracy 318/456 (0.69737)\n",
      " -- Epoch 28 --\n",
      "Test Set Accuracy 320/456 (0.70175)\n",
      " -- Epoch 29 --\n",
      "Test Set Accuracy 317/456 (0.69518)\n",
      " -- Epoch 30 --\n",
      "Test Set Accuracy 319/456 (0.69956)\n",
      " -- Epoch 31 --\n",
      "Test Set Accuracy 319/456 (0.69956)\n",
      " -- Epoch 32 --\n",
      "Test Set Accuracy 319/456 (0.69956)\n",
      " -- Epoch 33 --\n",
      "Test Set Accuracy 318/456 (0.69737)\n",
      " -- Epoch 34 --\n",
      "Test Set Accuracy 319/456 (0.69956)\n",
      " -- Epoch 35 --\n",
      "Test Set Accuracy 316/456 (0.69298)\n",
      " -- Epoch 36 --\n",
      "Test Set Accuracy 314/456 (0.6886)\n",
      " -- Epoch 37 --\n",
      "Test Set Accuracy 314/456 (0.6886)\n",
      " -- Epoch 38 --\n",
      "Test Set Accuracy 315/456 (0.69079)\n",
      " -- Epoch 39 --\n",
      "Test Set Accuracy 315/456 (0.69079)\n",
      " -- Epoch 40 --\n",
      "Test Set Accuracy 314/456 (0.6886)\n",
      " -- Epoch 41 --\n",
      "Test Set Accuracy 314/456 (0.6886)\n",
      " -- Epoch 42 --\n",
      "Test Set Accuracy 314/456 (0.6886)\n",
      " -- Epoch 43 --\n",
      "Test Set Accuracy 313/456 (0.6864)\n",
      " -- Epoch 44 --\n",
      "Test Set Accuracy 313/456 (0.6864)\n",
      " -- Epoch 45 --\n",
      "Test Set Accuracy 314/456 (0.6886)\n",
      " -- Epoch 46 --\n",
      "Test Set Accuracy 312/456 (0.68421)\n",
      " -- Epoch 47 --\n",
      "Test Set Accuracy 312/456 (0.68421)\n",
      " -- Epoch 48 --\n",
      "Test Set Accuracy 312/456 (0.68421)\n",
      " -- Epoch 49 --\n",
      "Test Set Accuracy 313/456 (0.6864)\n",
      " -- Epoch 50 --\n",
      "Test Set Accuracy 313/456 (0.6864)\n"
     ]
    }
   ],
   "source": [
    "print('BEFORE TRAINING')\n",
    "eval(testset)\n",
    "\n",
    "print('train...')\n",
    "train()"
   ]
  },
  {
   "cell_type": "code",
   "execution_count": null,
   "metadata": {},
   "outputs": [],
   "source": []
  },
  {
   "cell_type": "code",
   "execution_count": null,
   "metadata": {},
   "outputs": [],
   "source": []
  }
 ]
}