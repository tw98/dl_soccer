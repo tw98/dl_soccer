{
 "metadata": {
  "language_info": {
   "codemirror_mode": {
    "name": "ipython",
    "version": 3
   },
   "file_extension": ".py",
   "mimetype": "text/x-python",
   "name": "python",
   "nbconvert_exporter": "python",
   "pygments_lexer": "ipython3",
   "version": "3.8.5"
  },
  "orig_nbformat": 2,
  "kernelspec": {
   "name": "python385jvsc74a57bd066ae305c42bcce0a319b27f528cc973ac63e8c3cd13054f4470f218637fd7c02",
   "display_name": "Python 3.8.5 64-bit ('base': conda)"
  },
  "metadata": {
   "interpreter": {
    "hash": "66ae305c42bcce0a319b27f528cc973ac63e8c3cd13054f4470f218637fd7c02"
   }
  }
 },
 "nbformat": 4,
 "nbformat_minor": 2,
 "cells": [
  {
   "cell_type": "code",
   "execution_count": 1,
   "metadata": {},
   "outputs": [],
   "source": [
    "import torch\n",
    "import torch.nn.functional as F\n",
    "import torch.nn as nn\n",
    "import torch.nn.functional as F\n",
    "import torch.optim as optim\n",
    "\n",
    "import numpy as np\n",
    "import pandas as pd\n",
    "from scipy.stats import zscore"
   ]
  },
  {
   "cell_type": "code",
   "execution_count": 3,
   "metadata": {},
   "outputs": [],
   "source": [
    "country_list = ['england', 'germany', 'france', 'italy', 'spain']\n",
    "dfs = []\n",
    "for country in country_list:\n",
    "    df = (pd.read_csv(f'data/final_dfs/{country}.csv')).drop(columns=['shot', 'corner', 'freeKickShots', 'redCard', 'yellowCard', 'offside'])\n",
    "    dfs.append(df)\n",
    "\n",
    "game_events = pd.concat(dfs, ignore_index=True)"
   ]
  },
  {
   "cell_type": "code",
   "execution_count": 4,
   "metadata": {},
   "outputs": [
    {
     "output_type": "execute_result",
     "data": {
      "text/plain": [
       "(1826, 23)"
      ]
     },
     "metadata": {},
     "execution_count": 4
    }
   ],
   "source": [
    "game_events.shape"
   ]
  },
  {
   "cell_type": "code",
   "execution_count": 5,
   "metadata": {},
   "outputs": [],
   "source": [
    "cols = ['team1_win', 'team1_height', 'team2_height', 'team1_shot', 'team1_corner', 'team1_freeKickShots', 'team1_redCard', 'team1_yellowCard', 'team1_offside', 'team2_shot', 'team2_corner', 'team2_freeKickShots', 'team2_redCard', 'team2_yellowCard', 'team2_offside']\n",
    "df_dataset = game_events[cols]"
   ]
  },
  {
   "cell_type": "code",
   "execution_count": 6,
   "metadata": {},
   "outputs": [],
   "source": [
    "df_dataset.loc[:]['team1_win'] = df_dataset.apply(lambda x: int(x['team1_win']), axis = 'columns')\n",
    "df_dataset = df_dataset.astype('float')"
   ]
  },
  {
   "cell_type": "code",
   "execution_count": 7,
   "metadata": {},
   "outputs": [],
   "source": [
    "# zscore columns of dataframe \n",
    "exclude = set(['team1_win'])\n",
    "for key in (set(df_dataset.keys()) - exclude):\n",
    "    df_dataset.loc[:][key] = zscore(df_dataset[key].astype(float))"
   ]
  },
  {
   "cell_type": "code",
   "execution_count": 8,
   "metadata": {},
   "outputs": [
    {
     "output_type": "execute_result",
     "data": {
      "text/plain": [
       "      team1_win  team1_height  team2_height  team1_shot  team1_corner  \\\n",
       "0           0.0      0.391446     -0.830067   -0.664774      0.327491   \n",
       "1           1.0      0.812152      1.833659   -0.261090     -0.866120   \n",
       "2           0.0      0.017485     -0.185618    1.151803      0.625894   \n",
       "3           1.0     -0.496712      0.845502    1.757329      0.029089   \n",
       "4           1.0      0.110975      0.587722   -1.068458     -0.567717   \n",
       "...         ...           ...           ...         ...           ...   \n",
       "1821        0.0     -0.169496     -1.259701   -0.462932      0.029089   \n",
       "1822        0.0     -0.403221     -0.013764   -0.261090      0.029089   \n",
       "1823        0.0     -1.525104     -0.271544    0.546277      0.029089   \n",
       "1824        1.0     -0.262986     -2.376747    1.353645     -0.866120   \n",
       "1825        1.0     -0.777182     -0.013764   -0.261090     -0.567717   \n",
       "\n",
       "      team1_freeKickShots  team1_redCard  team1_yellowCard  team1_offside  \\\n",
       "0               -0.756350      -0.301959         -1.350896       0.418685   \n",
       "1               -0.756350      -0.301959          0.148640      -1.248142   \n",
       "2               -0.756350      -0.301959         -0.601128      -1.248142   \n",
       "3               -0.756350      -0.301959         -1.350896      -0.692533   \n",
       "4               -0.756350      -0.301959          1.648175       1.529903   \n",
       "...                   ...            ...               ...            ...   \n",
       "1821            -0.756350       3.101607          0.148640       1.529903   \n",
       "1822             0.482300      -0.301959          0.148640      -1.248142   \n",
       "1823             0.482300      -0.301959          0.898407       0.418685   \n",
       "1824             1.720951      -0.301959          0.898407      -0.136924   \n",
       "1825             1.720951      -0.301959         -1.350896       0.418685   \n",
       "\n",
       "      team2_shot  team2_corner  team2_freeKickShots  team2_redCard  \\\n",
       "0       0.976781      1.150234            -0.696247      -0.311344   \n",
       "1      -1.149085     -0.497082             0.681160      -0.311344   \n",
       "2      -0.440463     -0.826545             0.681160      -0.311344   \n",
       "3      -1.857707     -1.156008            -0.696247      -0.311344   \n",
       "4      -1.149085      0.161845             0.681160      -0.311344   \n",
       "...          ...           ...                  ...            ...   \n",
       "1821   -0.204256     -0.167618            -0.696247      -0.311344   \n",
       "1822   -0.440463     -1.156008            -0.696247       3.052642   \n",
       "1823    0.031951     -0.497082             0.681160      -0.311344   \n",
       "1824   -1.621500     -1.156008             0.681160       3.052642   \n",
       "1825   -0.676671     -0.497082            -0.696247      -0.311344   \n",
       "\n",
       "      team2_yellowCard  team2_offside  \n",
       "0            -1.484954      -0.615003  \n",
       "1             0.698826      -0.615003  \n",
       "2            -1.484954      -0.021767  \n",
       "3            -1.484954      -0.615003  \n",
       "4            -1.484954      -0.021767  \n",
       "...                ...            ...  \n",
       "1821          1.426752      -1.208240  \n",
       "1822          1.426752      -0.021767  \n",
       "1823         -0.757028      -0.615003  \n",
       "1824          0.698826      -0.615003  \n",
       "1825         -0.757028      -1.208240  \n",
       "\n",
       "[1826 rows x 15 columns]"
      ],
      "text/html": "<div>\n<style scoped>\n    .dataframe tbody tr th:only-of-type {\n        vertical-align: middle;\n    }\n\n    .dataframe tbody tr th {\n        vertical-align: top;\n    }\n\n    .dataframe thead th {\n        text-align: right;\n    }\n</style>\n<table border=\"1\" class=\"dataframe\">\n  <thead>\n    <tr style=\"text-align: right;\">\n      <th></th>\n      <th>team1_win</th>\n      <th>team1_height</th>\n      <th>team2_height</th>\n      <th>team1_shot</th>\n      <th>team1_corner</th>\n      <th>team1_freeKickShots</th>\n      <th>team1_redCard</th>\n      <th>team1_yellowCard</th>\n      <th>team1_offside</th>\n      <th>team2_shot</th>\n      <th>team2_corner</th>\n      <th>team2_freeKickShots</th>\n      <th>team2_redCard</th>\n      <th>team2_yellowCard</th>\n      <th>team2_offside</th>\n    </tr>\n  </thead>\n  <tbody>\n    <tr>\n      <th>0</th>\n      <td>0.0</td>\n      <td>0.391446</td>\n      <td>-0.830067</td>\n      <td>-0.664774</td>\n      <td>0.327491</td>\n      <td>-0.756350</td>\n      <td>-0.301959</td>\n      <td>-1.350896</td>\n      <td>0.418685</td>\n      <td>0.976781</td>\n      <td>1.150234</td>\n      <td>-0.696247</td>\n      <td>-0.311344</td>\n      <td>-1.484954</td>\n      <td>-0.615003</td>\n    </tr>\n    <tr>\n      <th>1</th>\n      <td>1.0</td>\n      <td>0.812152</td>\n      <td>1.833659</td>\n      <td>-0.261090</td>\n      <td>-0.866120</td>\n      <td>-0.756350</td>\n      <td>-0.301959</td>\n      <td>0.148640</td>\n      <td>-1.248142</td>\n      <td>-1.149085</td>\n      <td>-0.497082</td>\n      <td>0.681160</td>\n      <td>-0.311344</td>\n      <td>0.698826</td>\n      <td>-0.615003</td>\n    </tr>\n    <tr>\n      <th>2</th>\n      <td>0.0</td>\n      <td>0.017485</td>\n      <td>-0.185618</td>\n      <td>1.151803</td>\n      <td>0.625894</td>\n      <td>-0.756350</td>\n      <td>-0.301959</td>\n      <td>-0.601128</td>\n      <td>-1.248142</td>\n      <td>-0.440463</td>\n      <td>-0.826545</td>\n      <td>0.681160</td>\n      <td>-0.311344</td>\n      <td>-1.484954</td>\n      <td>-0.021767</td>\n    </tr>\n    <tr>\n      <th>3</th>\n      <td>1.0</td>\n      <td>-0.496712</td>\n      <td>0.845502</td>\n      <td>1.757329</td>\n      <td>0.029089</td>\n      <td>-0.756350</td>\n      <td>-0.301959</td>\n      <td>-1.350896</td>\n      <td>-0.692533</td>\n      <td>-1.857707</td>\n      <td>-1.156008</td>\n      <td>-0.696247</td>\n      <td>-0.311344</td>\n      <td>-1.484954</td>\n      <td>-0.615003</td>\n    </tr>\n    <tr>\n      <th>4</th>\n      <td>1.0</td>\n      <td>0.110975</td>\n      <td>0.587722</td>\n      <td>-1.068458</td>\n      <td>-0.567717</td>\n      <td>-0.756350</td>\n      <td>-0.301959</td>\n      <td>1.648175</td>\n      <td>1.529903</td>\n      <td>-1.149085</td>\n      <td>0.161845</td>\n      <td>0.681160</td>\n      <td>-0.311344</td>\n      <td>-1.484954</td>\n      <td>-0.021767</td>\n    </tr>\n    <tr>\n      <th>...</th>\n      <td>...</td>\n      <td>...</td>\n      <td>...</td>\n      <td>...</td>\n      <td>...</td>\n      <td>...</td>\n      <td>...</td>\n      <td>...</td>\n      <td>...</td>\n      <td>...</td>\n      <td>...</td>\n      <td>...</td>\n      <td>...</td>\n      <td>...</td>\n      <td>...</td>\n    </tr>\n    <tr>\n      <th>1821</th>\n      <td>0.0</td>\n      <td>-0.169496</td>\n      <td>-1.259701</td>\n      <td>-0.462932</td>\n      <td>0.029089</td>\n      <td>-0.756350</td>\n      <td>3.101607</td>\n      <td>0.148640</td>\n      <td>1.529903</td>\n      <td>-0.204256</td>\n      <td>-0.167618</td>\n      <td>-0.696247</td>\n      <td>-0.311344</td>\n      <td>1.426752</td>\n      <td>-1.208240</td>\n    </tr>\n    <tr>\n      <th>1822</th>\n      <td>0.0</td>\n      <td>-0.403221</td>\n      <td>-0.013764</td>\n      <td>-0.261090</td>\n      <td>0.029089</td>\n      <td>0.482300</td>\n      <td>-0.301959</td>\n      <td>0.148640</td>\n      <td>-1.248142</td>\n      <td>-0.440463</td>\n      <td>-1.156008</td>\n      <td>-0.696247</td>\n      <td>3.052642</td>\n      <td>1.426752</td>\n      <td>-0.021767</td>\n    </tr>\n    <tr>\n      <th>1823</th>\n      <td>0.0</td>\n      <td>-1.525104</td>\n      <td>-0.271544</td>\n      <td>0.546277</td>\n      <td>0.029089</td>\n      <td>0.482300</td>\n      <td>-0.301959</td>\n      <td>0.898407</td>\n      <td>0.418685</td>\n      <td>0.031951</td>\n      <td>-0.497082</td>\n      <td>0.681160</td>\n      <td>-0.311344</td>\n      <td>-0.757028</td>\n      <td>-0.615003</td>\n    </tr>\n    <tr>\n      <th>1824</th>\n      <td>1.0</td>\n      <td>-0.262986</td>\n      <td>-2.376747</td>\n      <td>1.353645</td>\n      <td>-0.866120</td>\n      <td>1.720951</td>\n      <td>-0.301959</td>\n      <td>0.898407</td>\n      <td>-0.136924</td>\n      <td>-1.621500</td>\n      <td>-1.156008</td>\n      <td>0.681160</td>\n      <td>3.052642</td>\n      <td>0.698826</td>\n      <td>-0.615003</td>\n    </tr>\n    <tr>\n      <th>1825</th>\n      <td>1.0</td>\n      <td>-0.777182</td>\n      <td>-0.013764</td>\n      <td>-0.261090</td>\n      <td>-0.567717</td>\n      <td>1.720951</td>\n      <td>-0.301959</td>\n      <td>-1.350896</td>\n      <td>0.418685</td>\n      <td>-0.676671</td>\n      <td>-0.497082</td>\n      <td>-0.696247</td>\n      <td>-0.311344</td>\n      <td>-0.757028</td>\n      <td>-1.208240</td>\n    </tr>\n  </tbody>\n</table>\n<p>1826 rows × 15 columns</p>\n</div>"
     },
     "metadata": {},
     "execution_count": 8
    }
   ],
   "source": [
    "df_dataset"
   ]
  },
  {
   "cell_type": "code",
   "execution_count": 9,
   "metadata": {},
   "outputs": [],
   "source": [
    "dataset = df_dataset.to_numpy()"
   ]
  },
  {
   "cell_type": "code",
   "execution_count": 10,
   "metadata": {},
   "outputs": [
    {
     "output_type": "execute_result",
     "data": {
      "text/plain": [
       "(1826, 15)"
      ]
     },
     "metadata": {},
     "execution_count": 10
    }
   ],
   "source": [
    "dataset.shape"
   ]
  },
  {
   "cell_type": "code",
   "execution_count": 61,
   "metadata": {},
   "outputs": [],
   "source": [
    "n_games, n_features = dataset[:,1:].shape\n",
    "trainset, testset = torch.utils.data.random_split(dataset, [n_games - int(0.25 * n_games), int(0.25 * n_games)])\n",
    "\n",
    "train_loader = torch.utils.data.DataLoader(trainset, batch_size=128, shuffle=True)\n",
    "test_loader = torch.utils.data.DataLoader(testset, batch_size=128, shuffle=True)"
   ]
  },
  {
   "cell_type": "code",
   "execution_count": 88,
   "metadata": {},
   "outputs": [],
   "source": [
    "N_EPOCHS = 50\n",
    "BATCH_SIZE_TRAIN = 64\n",
    "BATCH_SIZE_TEST = 1000\n",
    "LEARNING_RATE = 0.0001\n",
    "\n",
    "LOG_TRAINING = False\n",
    "LOG_INTERVAL = 10\n",
    "\n",
    "# random_seed = 1\n",
    "torch.backends.cudnn.enabled = False\n",
    "# torch.manual_seed(random_seed)"
   ]
  },
  {
   "cell_type": "code",
   "execution_count": 89,
   "metadata": {},
   "outputs": [],
   "source": [
    "# Network Parameters\n",
    "n_hidden_1 = 128  # 1st layer number of neurons\n",
    "n_hidden_2 = 128  # 2nd layer number of neurons\n",
    "n_hidden_3 = 64  # 3rd layer number of neurons\n",
    "\n",
    "\n",
    "model = nn.Sequential(nn.Linear(n_features, n_hidden_1),\n",
    "                       nn.ReLU(),\n",
    "                       nn.Linear(n_hidden_1, n_hidden_2),\n",
    "                       nn.ReLU(),\n",
    "                       nn.Linear(n_hidden_2, n_hidden_3),\n",
    "                       nn.ReLU(),\n",
    "                       nn.Linear(n_hidden_3, 1),\n",
    "                       nn.Sigmoid())"
   ]
  },
  {
   "cell_type": "code",
   "execution_count": 90,
   "metadata": {},
   "outputs": [],
   "source": [
    "optimizer = optim.Adam(model.parameters(), lr=LEARNING_RATE)\n",
    "# criterion = nn.MSELoss()\n",
    "criterion = nn.BCELoss()"
   ]
  },
  {
   "cell_type": "code",
   "execution_count": 91,
   "metadata": {},
   "outputs": [],
   "source": [
    "def eval(dataset):\n",
    "    model.eval()\n",
    "    eval_loader = torch.utils.data.DataLoader(dataset, batch_size=len(dataset),shuffle=False)\n",
    "    \n",
    "    batch = next(iter(eval_loader))    \n",
    "    targets = batch[:,0].float()\n",
    "    data = batch[:,1:].float()\n",
    "\n",
    "    truth_team1_win = np.count_nonzero(targets.numpy() == 1.)\n",
    "    truth_team2_win = np.count_nonzero(targets.numpy() == 0.)\n",
    "\n",
    "    with torch.no_grad():\n",
    "        output = model.forward(data)\n",
    "        pred = torch.round(output.view(-1))\n",
    "\n",
    "        correct = pred.eq(targets.data.view_as(pred)).sum().item()\n",
    "\n",
    "        pred_team1_win = np.count_nonzero(pred.numpy() == 1.)\n",
    "        pred_team2_win = np.count_nonzero(pred.numpy() == 0.)\n",
    "\n",
    "    model.train()\n",
    "    \n",
    "    print('Test Set Accuracy {}/{} ({})'.format(correct, len(dataset), round(correct/len(dataset), 5)))\n",
    "    # print('Team 1 Win: P: {}, T: {} -- Team 2 Win: P: {}, T: {}'.format(pred_team1_win, truth_team1_win, pred_team2_win, truth_team2_win))\n",
    "\n",
    "def train():\n",
    "    for ep in range(1, N_EPOCHS+1):\n",
    "        model.train()\n",
    "        print(f' -- Epoch {ep} --')\n",
    "        loss_sum = 0\n",
    "\n",
    "        for batch_idx, batch in enumerate(train_loader):\n",
    "            optimizer.zero_grad()\n",
    "\n",
    "            targets = batch[:,0].float()\n",
    "            data = batch[:,1:]\n",
    "\n",
    "            pred = model.forward(data.float())\n",
    "\n",
    "            loss = criterion(pred.view(-1), targets)\n",
    "            loss.backward()\n",
    "\n",
    "            optimizer.step()\n",
    "\n",
    "        eval(testset)\n",
    "        "
   ]
  },
  {
   "cell_type": "code",
   "execution_count": 92,
   "metadata": {
    "tags": []
   },
   "outputs": [
    {
     "output_type": "stream",
     "name": "stdout",
     "text": [
      "BEFORE TRAINING\n",
      "Test Set Accuracy 251/456 (0.55044)\n",
      "train...\n",
      " -- Epoch 1 --\n",
      "Test Set Accuracy 259/456 (0.56798)\n",
      " -- Epoch 2 --\n",
      "Test Set Accuracy 260/456 (0.57018)\n",
      " -- Epoch 3 --\n",
      "Test Set Accuracy 260/456 (0.57018)\n",
      " -- Epoch 4 --\n",
      "Test Set Accuracy 260/456 (0.57018)\n",
      " -- Epoch 5 --\n",
      "Test Set Accuracy 260/456 (0.57018)\n",
      " -- Epoch 6 --\n",
      "Test Set Accuracy 260/456 (0.57018)\n",
      " -- Epoch 7 --\n",
      "Test Set Accuracy 261/456 (0.57237)\n",
      " -- Epoch 8 --\n",
      "Test Set Accuracy 265/456 (0.58114)\n",
      " -- Epoch 9 --\n",
      "Test Set Accuracy 270/456 (0.59211)\n",
      " -- Epoch 10 --\n",
      "Test Set Accuracy 273/456 (0.59868)\n",
      " -- Epoch 11 --\n",
      "Test Set Accuracy 283/456 (0.62061)\n",
      " -- Epoch 12 --\n",
      "Test Set Accuracy 289/456 (0.63377)\n",
      " -- Epoch 13 --\n",
      "Test Set Accuracy 293/456 (0.64254)\n",
      " -- Epoch 14 --\n",
      "Test Set Accuracy 300/456 (0.65789)\n",
      " -- Epoch 15 --\n",
      "Test Set Accuracy 308/456 (0.67544)\n",
      " -- Epoch 16 --\n",
      "Test Set Accuracy 306/456 (0.67105)\n",
      " -- Epoch 17 --\n",
      "Test Set Accuracy 302/456 (0.66228)\n",
      " -- Epoch 18 --\n",
      "Test Set Accuracy 304/456 (0.66667)\n",
      " -- Epoch 19 --\n",
      "Test Set Accuracy 304/456 (0.66667)\n",
      " -- Epoch 20 --\n",
      "Test Set Accuracy 306/456 (0.67105)\n",
      " -- Epoch 21 --\n",
      "Test Set Accuracy 306/456 (0.67105)\n",
      " -- Epoch 22 --\n",
      "Test Set Accuracy 308/456 (0.67544)\n",
      " -- Epoch 23 --\n",
      "Test Set Accuracy 304/456 (0.66667)\n",
      " -- Epoch 24 --\n",
      "Test Set Accuracy 306/456 (0.67105)\n",
      " -- Epoch 25 --\n",
      "Test Set Accuracy 308/456 (0.67544)\n",
      " -- Epoch 26 --\n",
      "Test Set Accuracy 309/456 (0.67763)\n",
      " -- Epoch 27 --\n",
      "Test Set Accuracy 310/456 (0.67982)\n",
      " -- Epoch 28 --\n",
      "Test Set Accuracy 308/456 (0.67544)\n",
      " -- Epoch 29 --\n",
      "Test Set Accuracy 308/456 (0.67544)\n",
      " -- Epoch 30 --\n",
      "Test Set Accuracy 309/456 (0.67763)\n",
      " -- Epoch 31 --\n",
      "Test Set Accuracy 309/456 (0.67763)\n",
      " -- Epoch 32 --\n",
      "Test Set Accuracy 304/456 (0.66667)\n",
      " -- Epoch 33 --\n",
      "Test Set Accuracy 305/456 (0.66886)\n",
      " -- Epoch 34 --\n",
      "Test Set Accuracy 307/456 (0.67325)\n",
      " -- Epoch 35 --\n",
      "Test Set Accuracy 309/456 (0.67763)\n",
      " -- Epoch 36 --\n",
      "Test Set Accuracy 308/456 (0.67544)\n",
      " -- Epoch 37 --\n",
      "Test Set Accuracy 308/456 (0.67544)\n",
      " -- Epoch 38 --\n",
      "Test Set Accuracy 306/456 (0.67105)\n",
      " -- Epoch 39 --\n",
      "Test Set Accuracy 307/456 (0.67325)\n",
      " -- Epoch 40 --\n",
      "Test Set Accuracy 308/456 (0.67544)\n",
      " -- Epoch 41 --\n",
      "Test Set Accuracy 309/456 (0.67763)\n",
      " -- Epoch 42 --\n",
      "Test Set Accuracy 310/456 (0.67982)\n",
      " -- Epoch 43 --\n",
      "Test Set Accuracy 312/456 (0.68421)\n",
      " -- Epoch 44 --\n",
      "Test Set Accuracy 308/456 (0.67544)\n",
      " -- Epoch 45 --\n",
      "Test Set Accuracy 312/456 (0.68421)\n",
      " -- Epoch 46 --\n",
      "Test Set Accuracy 314/456 (0.6886)\n",
      " -- Epoch 47 --\n",
      "Test Set Accuracy 314/456 (0.6886)\n",
      " -- Epoch 48 --\n",
      "Test Set Accuracy 315/456 (0.69079)\n",
      " -- Epoch 49 --\n",
      "Test Set Accuracy 309/456 (0.67763)\n",
      " -- Epoch 50 --\n",
      "Test Set Accuracy 314/456 (0.6886)\n"
     ]
    }
   ],
   "source": [
    "print('BEFORE TRAINING')\n",
    "eval(testset)\n",
    "\n",
    "print('train...')\n",
    "train()"
   ]
  },
  {
   "cell_type": "code",
   "execution_count": null,
   "metadata": {},
   "outputs": [],
   "source": []
  },
  {
   "cell_type": "code",
   "execution_count": null,
   "metadata": {},
   "outputs": [],
   "source": []
  }
 ]
}