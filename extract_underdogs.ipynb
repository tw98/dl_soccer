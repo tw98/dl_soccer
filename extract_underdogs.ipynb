{
 "metadata": {
  "language_info": {
   "codemirror_mode": {
    "name": "ipython",
    "version": 3
   },
   "file_extension": ".py",
   "mimetype": "text/x-python",
   "name": "python",
   "nbconvert_exporter": "python",
   "pygments_lexer": "ipython3",
   "version": "3.8.5-final"
  },
  "orig_nbformat": 2,
  "kernelspec": {
   "name": "python3",
   "display_name": "Python 3",
   "language": "python"
  }
 },
 "nbformat": 4,
 "nbformat_minor": 2,
 "cells": [
  {
   "cell_type": "code",
   "execution_count": 305,
   "metadata": {},
   "outputs": [],
   "source": [
    "import pandas as pd\n",
    "import os\n",
    "import numpy as np\n",
    "import json\n",
    "from datetime import datetime\n",
    "from statistics import mean"
   ]
  },
  {
   "cell_type": "code",
   "execution_count": 306,
   "metadata": {},
   "outputs": [],
   "source": [
    "coaches_file = \"/Users/tw/Desktop/Deep_Learning/Project/data/coaches.json\"\n",
    "players_file = \"/Users/tw/Desktop/Deep_Learning/Project/data/players.json\"\n",
    "refs_file = \"/Users/tw/Desktop/Deep_Learning/Project/data/referees.json\"\n",
    "teams_file = \"/Users/tw/Desktop/Deep_Learning/Project/data/teams.json\"\n"
   ]
  },
  {
   "cell_type": "code",
   "execution_count": 307,
   "metadata": {},
   "outputs": [],
   "source": [
    "df_matches = pd.read_json(\"/Users/tw/Desktop/Deep_Learning/Project/data/matches/matches_Italy.json\").drop(columns=['venue', 'date', 'status', 'duration'])\n",
    "df_matches['dateutc'] = df_matches['dateutc'].apply(lambda x: datetime.strptime(x, '%Y-%m-%d %H:%M:%S'))"
   ]
  },
  {
   "cell_type": "code",
   "execution_count": 308,
   "metadata": {},
   "outputs": [
    {
     "output_type": "execute_result",
     "data": {
      "text/plain": [
       "   roundId  gameweek                                          teamsData  \\\n",
       "0  4406278        38  {'3162': {'scoreET': 0, 'coachId': 251025, 'si...   \n",
       "1  4406278        38  {'3158': {'scoreET': 0, 'coachId': 210119, 'si...   \n",
       "2  4406278        38  {'3173': {'scoreET': 0, 'coachId': 251044, 'si...   \n",
       "3  4406278        38  {'3165': {'scoreET': 0, 'coachId': 272970, 'si...   \n",
       "4  4406278        38  {'3166': {'scoreET': 0, 'coachId': 20481, 'sid...   \n",
       "\n",
       "   seasonId             dateutc  winner     wyId  \\\n",
       "0    181248 2018-05-20 18:45:00    3161  2576335   \n",
       "1    181248 2018-05-20 18:45:00    3158  2576336   \n",
       "2    181248 2018-05-20 16:00:00    3173  2576329   \n",
       "3    181248 2018-05-20 16:00:00    3165  2576330   \n",
       "4    181248 2018-05-20 16:00:00    3163  2576331   \n",
       "\n",
       "                           label  \\\n",
       "0  Lazio - Internazionale, 2 - 3   \n",
       "1         Sassuolo - Roma, 0 - 1   \n",
       "2     Cagliari - Atalanta, 1 - 0   \n",
       "3      Chievo - Benevento, 1 - 0   \n",
       "4       Udinese - Bologna, 1 - 0   \n",
       "\n",
       "                                            referees  competitionId  \n",
       "0  [{'refereeId': 377206, 'role': 'referee'}, {'r...            524  \n",
       "1  [{'refereeId': 377255, 'role': 'referee'}, {'r...            524  \n",
       "2  [{'refereeId': 377247, 'role': 'referee'}, {'r...            524  \n",
       "3  [{'refereeId': 377246, 'role': 'referee'}, {'r...            524  \n",
       "4  [{'refereeId': 377254, 'role': 'referee'}, {'r...            524  "
      ],
      "text/html": "<div>\n<style scoped>\n    .dataframe tbody tr th:only-of-type {\n        vertical-align: middle;\n    }\n\n    .dataframe tbody tr th {\n        vertical-align: top;\n    }\n\n    .dataframe thead th {\n        text-align: right;\n    }\n</style>\n<table border=\"1\" class=\"dataframe\">\n  <thead>\n    <tr style=\"text-align: right;\">\n      <th></th>\n      <th>roundId</th>\n      <th>gameweek</th>\n      <th>teamsData</th>\n      <th>seasonId</th>\n      <th>dateutc</th>\n      <th>winner</th>\n      <th>wyId</th>\n      <th>label</th>\n      <th>referees</th>\n      <th>competitionId</th>\n    </tr>\n  </thead>\n  <tbody>\n    <tr>\n      <th>0</th>\n      <td>4406278</td>\n      <td>38</td>\n      <td>{'3162': {'scoreET': 0, 'coachId': 251025, 'si...</td>\n      <td>181248</td>\n      <td>2018-05-20 18:45:00</td>\n      <td>3161</td>\n      <td>2576335</td>\n      <td>Lazio - Internazionale, 2 - 3</td>\n      <td>[{'refereeId': 377206, 'role': 'referee'}, {'r...</td>\n      <td>524</td>\n    </tr>\n    <tr>\n      <th>1</th>\n      <td>4406278</td>\n      <td>38</td>\n      <td>{'3158': {'scoreET': 0, 'coachId': 210119, 'si...</td>\n      <td>181248</td>\n      <td>2018-05-20 18:45:00</td>\n      <td>3158</td>\n      <td>2576336</td>\n      <td>Sassuolo - Roma, 0 - 1</td>\n      <td>[{'refereeId': 377255, 'role': 'referee'}, {'r...</td>\n      <td>524</td>\n    </tr>\n    <tr>\n      <th>2</th>\n      <td>4406278</td>\n      <td>38</td>\n      <td>{'3173': {'scoreET': 0, 'coachId': 251044, 'si...</td>\n      <td>181248</td>\n      <td>2018-05-20 16:00:00</td>\n      <td>3173</td>\n      <td>2576329</td>\n      <td>Cagliari - Atalanta, 1 - 0</td>\n      <td>[{'refereeId': 377247, 'role': 'referee'}, {'r...</td>\n      <td>524</td>\n    </tr>\n    <tr>\n      <th>3</th>\n      <td>4406278</td>\n      <td>38</td>\n      <td>{'3165': {'scoreET': 0, 'coachId': 272970, 'si...</td>\n      <td>181248</td>\n      <td>2018-05-20 16:00:00</td>\n      <td>3165</td>\n      <td>2576330</td>\n      <td>Chievo - Benevento, 1 - 0</td>\n      <td>[{'refereeId': 377246, 'role': 'referee'}, {'r...</td>\n      <td>524</td>\n    </tr>\n    <tr>\n      <th>4</th>\n      <td>4406278</td>\n      <td>38</td>\n      <td>{'3166': {'scoreET': 0, 'coachId': 20481, 'sid...</td>\n      <td>181248</td>\n      <td>2018-05-20 16:00:00</td>\n      <td>3163</td>\n      <td>2576331</td>\n      <td>Udinese - Bologna, 1 - 0</td>\n      <td>[{'refereeId': 377254, 'role': 'referee'}, {'r...</td>\n      <td>524</td>\n    </tr>\n  </tbody>\n</table>\n</div>"
     },
     "metadata": {},
     "execution_count": 308
    }
   ],
   "source": [
    "df_matches.head()"
   ]
  },
  {
   "cell_type": "code",
   "execution_count": 309,
   "metadata": {},
   "outputs": [
    {
     "output_type": "execute_result",
     "data": {
      "text/plain": [
       "['Arsenal',\n",
       " 'Bournemouth',\n",
       " 'Brighton',\n",
       " 'Burnley',\n",
       " 'Chelsea',\n",
       " 'Crystal Palace',\n",
       " 'Everton',\n",
       " 'Huddersfield',\n",
       " 'Leicester',\n",
       " 'Liverpool',\n",
       " 'Man City',\n",
       " 'Man United',\n",
       " 'Newcastle',\n",
       " 'Southampton',\n",
       " 'Stoke',\n",
       " 'Swansea',\n",
       " 'Tottenham',\n",
       " 'Watford',\n",
       " 'West Brom',\n",
       " 'West Ham']"
      ]
     },
     "metadata": {},
     "execution_count": 309
    }
   ],
   "source": [
    "teams = ['Arsenal', 'Brighton', 'Chelsea', 'Crystal Palace', 'Everton',\n",
    "       'Southampton', 'Watford', 'West Brom', 'Man United', 'Newcastle',\n",
    "       'Bournemouth', 'Burnley', 'Leicester', 'Liverpool', 'Stoke',\n",
    "       'Swansea', 'Huddersfield', 'Tottenham', 'Man City', 'West Ham']\n",
    "teams.sort()\n",
    "teams"
   ]
  },
  {
   "cell_type": "code",
   "execution_count": 313,
   "metadata": {},
   "outputs": [],
   "source": [
    "team_dict = {\n",
    "    # Germany\n",
    "    'Augsburg': 'Augsburg',\n",
    "    'BayernM\\\\u00fcnchen': 'Bayern Munich',\n",
    "    'BorussiaDortmund': 'Dortmund',\n",
    "    'EintrachtFrankfurt': 'Ein Frankfurt',\n",
    "    'K\\\\u00f6ln': 'FC Koln',\n",
    "    'Freiburg': 'Freiburg',\n",
    "    'HamburgerSV': 'Hamburg',\n",
    "    'Hannover96': 'Hannover',\n",
    "    'HerthaBSC': 'Hertha',\n",
    "    'Hoffenheim': 'Hoffenheim',\n",
    "    'BayerLeverkusen': 'Leverkusen',\n",
    "    \"BorussiaM'gladbach\": \"M'gladbach\",\n",
    "    'Mainz05': 'Mainz',\n",
    "    'RBLeipzig': 'RB Leipzig',\n",
    "    'Schalke04': 'Schalke 04',\n",
    "    'Stuttgart': 'Stuttgart',\n",
    "    'WerderBremen': 'Werder Bremen',\n",
    "    'Wolfsburg': 'Wolfsburg',\n",
    "\n",
    "    # England\n",
    "    \"Arsenal\": 'Arsenal',\n",
    "    \"AFCBournemouth\": 'Bournemouth',\n",
    "    \"Brighton&HoveAlbion\": 'Brighton',\n",
    "    \"Burnley\": 'Burnley',\n",
    "    \"Chelsea\": 'Chelsea',\n",
    "    \"CrystalPalace\": 'Crystal Palace',\n",
    "    \"Everton\": 'Everton',\n",
    "    \"HuddersfieldTown\": 'Huddersfield',\n",
    "    \"LeicesterCity\": 'Leicester',\n",
    "    \"Liverpool\": 'Liverpool',\n",
    "    \"ManchesterCity\": 'Man City',\n",
    "    \"ManchesterUnited\": 'Man United',\n",
    "    \"NewcastleUnited\": 'Newcastle',\n",
    "    \"Southampton\": 'Southampton',\n",
    "    \"StokeCity\": 'Stoke',\n",
    "    \"SwanseaCity\": 'Swansea',\n",
    "    \"TottenhamHotspur\": 'Tottenham',\n",
    "    \"Watford\": 'Watford',\n",
    "    \"WestBromwichAlbion\": 'West Brom',\n",
    "    \"WestHamUnited\": 'West Ham',\n",
    "\n",
    "    # Spain\n",
    "    \"DeportivoAlav\\\\u00e9s\": 'Alaves',\n",
    "    \"AthleticClub\": 'Ath Bilbao',\n",
    "    \"Atl\\\\u00e9ticoMadrid\": 'Ath Madrid',\n",
    "    \"Barcelona\": 'Barcelona',\n",
    "    \"RealBetis\": 'Betis',\n",
    "    \"CeltadeVigo\": 'Celta',\n",
    "    \"Eibar\": 'Eibar',\n",
    "    \"Espanyol\": 'Espanol',\n",
    "    \"Getafe\": 'Getafe',\n",
    "    \"Girona\": 'Girona',\n",
    "    \"DeportivoLaCoru\\\\u00f1a\": 'La Coruna',\n",
    "    \"LasPalmas\": 'Las Palmas',\n",
    "    \"Legan\\\\u00e9s\": 'Leganes',\n",
    "    \"Levante\": 'Levante',\n",
    "    \"M\\\\u00e1laga\": 'Malaga',\n",
    "    \"RealMadrid\": 'Real Madrid',\n",
    "    \"Sevilla\": 'Sevilla',\n",
    "    \"RealSociedad\": 'Sociedad',\n",
    "    \"Valencia\": 'Valencia',\n",
    "    \"Villarreal\": 'Villarreal',\n",
    "\n",
    "    # France\n",
    "    \"AmiensSC\": 'Amiens',\n",
    "    \"AngersSCO\": 'Angers',\n",
    "    \"Bordeaux\": 'Bordeaux',\n",
    "    \"Caen\": 'Caen',\n",
    "    \"Dijon\": 'Dijon',\n",
    "    \"Guingamp\": 'Guingamp',\n",
    "    \"Lille\": 'Lille',\n",
    "    \"OlympiqueLyonnais\": 'Lyon',\n",
    "    \"OlympiqueMarseille\": 'Marseille',\n",
    "    \"Metz\": 'Metz',\n",
    "    \"Monaco\": 'Monaco',\n",
    "    \"Montpellier\": 'Montpellier',\n",
    "    \"Nantes\": 'Nantes',\n",
    "    \"Nice\": 'Nice',\n",
    "    \"PSG\": 'Paris SG',\n",
    "    \"Rennes\": 'Rennes',\n",
    "    \"Saint-\\\\u00c9tienne\": 'St Etienne',\n",
    "    \"Strasbourg\": 'Strasbourg',\n",
    "    \"Toulouse\": 'Toulouse',\n",
    "    \"Troyes\": 'Troyes',\n",
    "\n",
    "    # Italy\n",
    "    \"Atalanta\": 'Atalanta',\n",
    "    \"Benevento\": 'Benevento',\n",
    "    \"Bologna\": 'Bologna',\n",
    "    \"Cagliari\": 'Cagliari',\n",
    "    \"Chievo\": 'Chievo',\n",
    "    \"Crotone\": 'Crotone',\n",
    "    \"Fiorentina\": 'Fiorentina',\n",
    "    \"Genoa\": 'Genoa',\n",
    "    \"Internazionale\": 'Inter',\n",
    "    \"Juventus\": 'Juventus',\n",
    "    \"Lazio\": 'Lazio',\n",
    "    \"Milan\": 'Milan',\n",
    "    \"Napoli\": 'Napoli',\n",
    "    \"Roma\": 'Roma',\n",
    "    \"Sampdoria\": 'Sampdoria',\n",
    "    \"Sassuolo\": 'Sassuolo',\n",
    "    \"SPAL\": 'Spal',\n",
    "    \"Torino\": 'Torino',\n",
    "    \"Udinese\": 'Udinese',\n",
    "    \"HellasVerona\": 'Verona'\n",
    "\n",
    "}\n",
    "\n",
    "\n",
    "def clean_team_names(team):\n",
    "    return team_dict[team]\n",
    "\n",
    "def extract_label_information(label):\n",
    "    teams, score = label.split(',')\n",
    "    home_team, away_team = [clean_team_names(x.replace(' ', '')) for x in teams.split(' - ')]\n",
    "    # home_team, away_team = [(x.replace(' ', '')) for x in teams.split(' - ')]\n",
    "    home_goals, away_goals = [int(x.replace(' ', '')) for x in score.split(' - ')]\n",
    "\n",
    "    return home_team, away_team, home_goals, away_goals\n",
    "\n",
    "df_matches['HomeTeam'], df_matches['AwayTeam'], df_matches['HomeGoals'], df_matches['AwayGoals'] = zip(*df_matches.apply(lambda x: extract_label_information(x['label']), axis='columns'))"
   ]
  },
  {
   "cell_type": "code",
   "execution_count": 314,
   "metadata": {},
   "outputs": [
    {
     "output_type": "execute_result",
     "data": {
      "text/plain": [
       "['Atalanta',\n",
       " 'Benevento',\n",
       " 'Bologna',\n",
       " 'Cagliari',\n",
       " 'Chievo',\n",
       " 'Crotone',\n",
       " 'Fiorentina',\n",
       " 'Genoa',\n",
       " 'Inter',\n",
       " 'Juventus',\n",
       " 'Lazio',\n",
       " 'Milan',\n",
       " 'Napoli',\n",
       " 'Roma',\n",
       " 'Sampdoria',\n",
       " 'Sassuolo',\n",
       " 'Spal',\n",
       " 'Torino',\n",
       " 'Udinese',\n",
       " 'Verona']"
      ]
     },
     "metadata": {},
     "execution_count": 314
    }
   ],
   "source": [
    "teams2 = (list(df_matches['HomeTeam'].unique()))\n",
    "teams2.sort()\n",
    "teams2"
   ]
  },
  {
   "cell_type": "code",
   "execution_count": 315,
   "metadata": {},
   "outputs": [],
   "source": [
    "df_odds = (pd.read_csv('/Users/tw/Desktop/Deep_Learning/Project/data/odds/italy_odds.csv', usecols=['Date', 'HomeTeam', 'AwayTeam', 'FTHG', 'FTAG', 'B365H', 'B365A', 'BWH','BWA', 'IWH', 'IWA', 'LBH', 'LBA', 'PSH','PSA', 'WHH','WHA','VCH', 'VCA'])).rename(columns={'FTHG': 'HomeGoals', 'FTAG': 'AwayGoals'})\n",
    "df_odds['avgHome'] = df_odds.apply(lambda x: mean([x['B365H'], x['BWH'], x['IWH'], x['LBH'], x['PSH'], x['WHH'], x['VCH']]), axis='columns')\n",
    "df_odds['avgAway'] = df_odds.apply(lambda x: mean([x['B365A'], x['BWA'], x['IWA'], x['LBA'], x['PSA'], x['WHA'], x['VCA']]), axis='columns')\n",
    "df_odds = df_odds.drop(columns=['B365H', 'B365A', 'BWH','BWA', 'IWH', 'IWA', 'LBH', 'LBA', 'PSH','PSA', 'WHH','WHA','VCH', 'VCA'])"
   ]
  },
  {
   "cell_type": "code",
   "execution_count": 316,
   "metadata": {},
   "outputs": [
    {
     "output_type": "execute_result",
     "data": {
      "text/plain": [
       "['Atalanta',\n",
       " 'Benevento',\n",
       " 'Bologna',\n",
       " 'Cagliari',\n",
       " 'Chievo',\n",
       " 'Crotone',\n",
       " 'Fiorentina',\n",
       " 'Genoa',\n",
       " 'Inter',\n",
       " 'Juventus',\n",
       " 'Lazio',\n",
       " 'Milan',\n",
       " 'Napoli',\n",
       " 'Roma',\n",
       " 'Sampdoria',\n",
       " 'Sassuolo',\n",
       " 'Spal',\n",
       " 'Torino',\n",
       " 'Udinese',\n",
       " 'Verona']"
      ]
     },
     "metadata": {},
     "execution_count": 316
    }
   ],
   "source": [
    "teams = (list(df_odds['HomeTeam'].unique()))\n",
    "teams.sort()\n",
    "teams"
   ]
  },
  {
   "cell_type": "code",
   "execution_count": 317,
   "metadata": {},
   "outputs": [],
   "source": [
    "def isUnderdog(avg_1, avg_2):\n",
    "    underdog_threshold = 5\n",
    "    \n",
    "    underdog_match = 0\n",
    "    underdog_1 = 0\n",
    "    underdog_2 = 0\n",
    "\n",
    "    if avg_1 - avg_2 > underdog_threshold:\n",
    "        underdog_1 = 1\n",
    "        underdog_match = 1\n",
    "    if avg_2 - avg_1 > underdog_threshold:\n",
    "        underdog_2 = 1\n",
    "        underdog_match = 1\n",
    "    \n",
    "    return underdog_match, underdog_1, underdog_2\n",
    "\n",
    "df_odds['UnderdogMatch'], df_odds['HomeUnderdog'], df_odds['AwayUnderdog'] = zip(*df_odds.apply(lambda x: isUnderdog(x['avgHome'], x['avgAway']), axis='columns'))"
   ]
  },
  {
   "cell_type": "code",
   "execution_count": 318,
   "metadata": {},
   "outputs": [],
   "source": [
    "df_merged = df_matches.merge(df_odds, on=['HomeTeam', 'AwayTeam', 'HomeGoals', 'AwayGoals'])"
   ]
  },
  {
   "cell_type": "code",
   "execution_count": 319,
   "metadata": {},
   "outputs": [
    {
     "output_type": "stream",
     "name": "stdout",
     "text": [
      "(380, 14)\n(380, 10)\n(380, 20)\n"
     ]
    }
   ],
   "source": [
    "print(df_matches.shape)\n",
    "print(df_odds.shape)\n",
    "print(df_merged.shape)"
   ]
  },
  {
   "cell_type": "code",
   "execution_count": 320,
   "metadata": {},
   "outputs": [
    {
     "output_type": "execute_result",
     "data": {
      "text/plain": [
       "     roundId  gameweek                                          teamsData  \\\n",
       "0    4406278        38  {'3166': {'scoreET': 0, 'coachId': 20481, 'sid...   \n",
       "1    4406278        37  {'3315': {'scoreET': 0, 'coachId': 20603, 'sid...   \n",
       "2    4406278        36  {'3173': {'scoreET': 0, 'coachId': 251044, 'si...   \n",
       "3    4406278        36  {'3204': {'scoreET': 0, 'coachId': 357389, 'si...   \n",
       "4    4406278        36  {'3185': {'scoreET': 0, 'coachId': 21155, 'sid...   \n",
       "..       ...       ...                                                ...   \n",
       "120  4406278         2  {'3172': {'scoreET': 0, 'coachId': 210116, 'si...   \n",
       "121  4406278         2  {'3159': {'scoreET': 0, 'coachId': 20386, 'sid...   \n",
       "122  4406278         1  {'3204': {'scoreET': 0, 'coachId': 357389, 'si...   \n",
       "123  4406278         1  {'3194': {'scoreET': 0, 'coachId': 270032, 'si...   \n",
       "124  4406278         1  {'3159': {'scoreET': 0, 'coachId': 20386, 'sid...   \n",
       "\n",
       "     seasonId             dateutc  winner     wyId  \\\n",
       "0      181248 2018-05-20 16:00:00    3163  2576331   \n",
       "1      181248 2018-05-12 18:45:00    3315  2576326   \n",
       "2      181248 2018-05-06 18:45:00    3158  2576316   \n",
       "3      181248 2018-05-06 13:00:00    3204  2576310   \n",
       "4      181248 2018-05-06 13:00:00       0  2576318   \n",
       "..        ...                 ...     ...      ...   \n",
       "120    181248 2017-08-27 18:45:00    3187  2575975   \n",
       "121    181248 2017-08-26 16:00:00    3159  2575973   \n",
       "122    181248 2017-08-20 18:45:00       0  2575965   \n",
       "123    181248 2017-08-19 18:45:00    3187  2575962   \n",
       "124    181248 2017-08-19 16:00:00    3159  2575964   \n",
       "\n",
       "                                label  \\\n",
       "0            Udinese - Bologna, 1 - 0   \n",
       "1    Internazionale - Sassuolo, 1 - 2   \n",
       "2              Cagliari - Roma, 0 - 1   \n",
       "3             SPAL - Benevento, 2 - 0   \n",
       "4              Napoli - Torino, 2 - 2   \n",
       "..                                ...   \n",
       "120          Napoli - Atalanta, 3 - 1   \n",
       "121           Genoa - Juventus, 2 - 4   \n",
       "122               Lazio - SPAL, 0 - 0   \n",
       "123     Hellas Verona - Napoli, 1 - 3   \n",
       "124        Juventus - Cagliari, 3 - 0   \n",
       "\n",
       "                                              referees  competitionId  \\\n",
       "0    [{'refereeId': 377254, 'role': 'referee'}, {'r...            524   \n",
       "1    [{'refereeId': 377271, 'role': 'referee'}, {'r...            524   \n",
       "2    [{'refereeId': 377256, 'role': 'referee'}, {'r...            524   \n",
       "3    [{'refereeId': 377241, 'role': 'referee'}, {'r...            524   \n",
       "4    [{'refereeId': 377244, 'role': 'referee'}, {'r...            524   \n",
       "..                                                 ...            ...   \n",
       "120  [{'refereeId': 377256, 'role': 'referee'}, {'r...            524   \n",
       "121  [{'refereeId': 377231, 'role': 'referee'}, {'r...            524   \n",
       "122  [{'refereeId': 377271, 'role': 'referee'}, {'r...            524   \n",
       "123  [{'refereeId': 377252, 'role': 'referee'}, {'r...            524   \n",
       "124  [{'refereeId': 377263, 'role': 'referee'}, {'r...            524   \n",
       "\n",
       "     HomeTeam   AwayTeam  HomeGoals  AwayGoals      Date   avgHome    avgAway  \\\n",
       "0     Udinese    Bologna          1          0  20/05/18  1.482857   6.812857   \n",
       "1       Inter   Sassuolo          1          2  12/05/18  1.161429  16.175714   \n",
       "2    Cagliari       Roma          0          1  06/05/18  8.097143   1.414286   \n",
       "3        Spal  Benevento          2          0  06/05/18  1.507143   6.570000   \n",
       "4      Napoli     Torino          2          2  06/05/18  1.244286  12.108571   \n",
       "..        ...        ...        ...        ...       ...       ...        ...   \n",
       "120    Napoli   Atalanta          3          1  27/08/17  1.391429   8.105714   \n",
       "121     Genoa   Juventus          2          4  26/08/17  8.772857   1.382857   \n",
       "122     Lazio       Spal          0          0  20/08/17  1.291429  11.021429   \n",
       "123    Verona     Napoli          1          3  19/08/17  7.822857   1.410000   \n",
       "124  Juventus   Cagliari          3          0  19/08/17  1.147143  20.491429   \n",
       "\n",
       "     UnderdogMatch  HomeUnderdog  AwayUnderdog  \n",
       "0                1             0             1  \n",
       "1                1             0             1  \n",
       "2                1             1             0  \n",
       "3                1             0             1  \n",
       "4                1             0             1  \n",
       "..             ...           ...           ...  \n",
       "120              1             0             1  \n",
       "121              1             1             0  \n",
       "122              1             0             1  \n",
       "123              1             1             0  \n",
       "124              1             0             1  \n",
       "\n",
       "[125 rows x 20 columns]"
      ],
      "text/html": "<div>\n<style scoped>\n    .dataframe tbody tr th:only-of-type {\n        vertical-align: middle;\n    }\n\n    .dataframe tbody tr th {\n        vertical-align: top;\n    }\n\n    .dataframe thead th {\n        text-align: right;\n    }\n</style>\n<table border=\"1\" class=\"dataframe\">\n  <thead>\n    <tr style=\"text-align: right;\">\n      <th></th>\n      <th>roundId</th>\n      <th>gameweek</th>\n      <th>teamsData</th>\n      <th>seasonId</th>\n      <th>dateutc</th>\n      <th>winner</th>\n      <th>wyId</th>\n      <th>label</th>\n      <th>referees</th>\n      <th>competitionId</th>\n      <th>HomeTeam</th>\n      <th>AwayTeam</th>\n      <th>HomeGoals</th>\n      <th>AwayGoals</th>\n      <th>Date</th>\n      <th>avgHome</th>\n      <th>avgAway</th>\n      <th>UnderdogMatch</th>\n      <th>HomeUnderdog</th>\n      <th>AwayUnderdog</th>\n    </tr>\n  </thead>\n  <tbody>\n    <tr>\n      <th>0</th>\n      <td>4406278</td>\n      <td>38</td>\n      <td>{'3166': {'scoreET': 0, 'coachId': 20481, 'sid...</td>\n      <td>181248</td>\n      <td>2018-05-20 16:00:00</td>\n      <td>3163</td>\n      <td>2576331</td>\n      <td>Udinese - Bologna, 1 - 0</td>\n      <td>[{'refereeId': 377254, 'role': 'referee'}, {'r...</td>\n      <td>524</td>\n      <td>Udinese</td>\n      <td>Bologna</td>\n      <td>1</td>\n      <td>0</td>\n      <td>20/05/18</td>\n      <td>1.482857</td>\n      <td>6.812857</td>\n      <td>1</td>\n      <td>0</td>\n      <td>1</td>\n    </tr>\n    <tr>\n      <th>1</th>\n      <td>4406278</td>\n      <td>37</td>\n      <td>{'3315': {'scoreET': 0, 'coachId': 20603, 'sid...</td>\n      <td>181248</td>\n      <td>2018-05-12 18:45:00</td>\n      <td>3315</td>\n      <td>2576326</td>\n      <td>Internazionale - Sassuolo, 1 - 2</td>\n      <td>[{'refereeId': 377271, 'role': 'referee'}, {'r...</td>\n      <td>524</td>\n      <td>Inter</td>\n      <td>Sassuolo</td>\n      <td>1</td>\n      <td>2</td>\n      <td>12/05/18</td>\n      <td>1.161429</td>\n      <td>16.175714</td>\n      <td>1</td>\n      <td>0</td>\n      <td>1</td>\n    </tr>\n    <tr>\n      <th>2</th>\n      <td>4406278</td>\n      <td>36</td>\n      <td>{'3173': {'scoreET': 0, 'coachId': 251044, 'si...</td>\n      <td>181248</td>\n      <td>2018-05-06 18:45:00</td>\n      <td>3158</td>\n      <td>2576316</td>\n      <td>Cagliari - Roma, 0 - 1</td>\n      <td>[{'refereeId': 377256, 'role': 'referee'}, {'r...</td>\n      <td>524</td>\n      <td>Cagliari</td>\n      <td>Roma</td>\n      <td>0</td>\n      <td>1</td>\n      <td>06/05/18</td>\n      <td>8.097143</td>\n      <td>1.414286</td>\n      <td>1</td>\n      <td>1</td>\n      <td>0</td>\n    </tr>\n    <tr>\n      <th>3</th>\n      <td>4406278</td>\n      <td>36</td>\n      <td>{'3204': {'scoreET': 0, 'coachId': 357389, 'si...</td>\n      <td>181248</td>\n      <td>2018-05-06 13:00:00</td>\n      <td>3204</td>\n      <td>2576310</td>\n      <td>SPAL - Benevento, 2 - 0</td>\n      <td>[{'refereeId': 377241, 'role': 'referee'}, {'r...</td>\n      <td>524</td>\n      <td>Spal</td>\n      <td>Benevento</td>\n      <td>2</td>\n      <td>0</td>\n      <td>06/05/18</td>\n      <td>1.507143</td>\n      <td>6.570000</td>\n      <td>1</td>\n      <td>0</td>\n      <td>1</td>\n    </tr>\n    <tr>\n      <th>4</th>\n      <td>4406278</td>\n      <td>36</td>\n      <td>{'3185': {'scoreET': 0, 'coachId': 21155, 'sid...</td>\n      <td>181248</td>\n      <td>2018-05-06 13:00:00</td>\n      <td>0</td>\n      <td>2576318</td>\n      <td>Napoli - Torino, 2 - 2</td>\n      <td>[{'refereeId': 377244, 'role': 'referee'}, {'r...</td>\n      <td>524</td>\n      <td>Napoli</td>\n      <td>Torino</td>\n      <td>2</td>\n      <td>2</td>\n      <td>06/05/18</td>\n      <td>1.244286</td>\n      <td>12.108571</td>\n      <td>1</td>\n      <td>0</td>\n      <td>1</td>\n    </tr>\n    <tr>\n      <th>...</th>\n      <td>...</td>\n      <td>...</td>\n      <td>...</td>\n      <td>...</td>\n      <td>...</td>\n      <td>...</td>\n      <td>...</td>\n      <td>...</td>\n      <td>...</td>\n      <td>...</td>\n      <td>...</td>\n      <td>...</td>\n      <td>...</td>\n      <td>...</td>\n      <td>...</td>\n      <td>...</td>\n      <td>...</td>\n      <td>...</td>\n      <td>...</td>\n      <td>...</td>\n    </tr>\n    <tr>\n      <th>120</th>\n      <td>4406278</td>\n      <td>2</td>\n      <td>{'3172': {'scoreET': 0, 'coachId': 210116, 'si...</td>\n      <td>181248</td>\n      <td>2017-08-27 18:45:00</td>\n      <td>3187</td>\n      <td>2575975</td>\n      <td>Napoli - Atalanta, 3 - 1</td>\n      <td>[{'refereeId': 377256, 'role': 'referee'}, {'r...</td>\n      <td>524</td>\n      <td>Napoli</td>\n      <td>Atalanta</td>\n      <td>3</td>\n      <td>1</td>\n      <td>27/08/17</td>\n      <td>1.391429</td>\n      <td>8.105714</td>\n      <td>1</td>\n      <td>0</td>\n      <td>1</td>\n    </tr>\n    <tr>\n      <th>121</th>\n      <td>4406278</td>\n      <td>2</td>\n      <td>{'3159': {'scoreET': 0, 'coachId': 20386, 'sid...</td>\n      <td>181248</td>\n      <td>2017-08-26 16:00:00</td>\n      <td>3159</td>\n      <td>2575973</td>\n      <td>Genoa - Juventus, 2 - 4</td>\n      <td>[{'refereeId': 377231, 'role': 'referee'}, {'r...</td>\n      <td>524</td>\n      <td>Genoa</td>\n      <td>Juventus</td>\n      <td>2</td>\n      <td>4</td>\n      <td>26/08/17</td>\n      <td>8.772857</td>\n      <td>1.382857</td>\n      <td>1</td>\n      <td>1</td>\n      <td>0</td>\n    </tr>\n    <tr>\n      <th>122</th>\n      <td>4406278</td>\n      <td>1</td>\n      <td>{'3204': {'scoreET': 0, 'coachId': 357389, 'si...</td>\n      <td>181248</td>\n      <td>2017-08-20 18:45:00</td>\n      <td>0</td>\n      <td>2575965</td>\n      <td>Lazio - SPAL, 0 - 0</td>\n      <td>[{'refereeId': 377271, 'role': 'referee'}, {'r...</td>\n      <td>524</td>\n      <td>Lazio</td>\n      <td>Spal</td>\n      <td>0</td>\n      <td>0</td>\n      <td>20/08/17</td>\n      <td>1.291429</td>\n      <td>11.021429</td>\n      <td>1</td>\n      <td>0</td>\n      <td>1</td>\n    </tr>\n    <tr>\n      <th>123</th>\n      <td>4406278</td>\n      <td>1</td>\n      <td>{'3194': {'scoreET': 0, 'coachId': 270032, 'si...</td>\n      <td>181248</td>\n      <td>2017-08-19 18:45:00</td>\n      <td>3187</td>\n      <td>2575962</td>\n      <td>Hellas Verona - Napoli, 1 - 3</td>\n      <td>[{'refereeId': 377252, 'role': 'referee'}, {'r...</td>\n      <td>524</td>\n      <td>Verona</td>\n      <td>Napoli</td>\n      <td>1</td>\n      <td>3</td>\n      <td>19/08/17</td>\n      <td>7.822857</td>\n      <td>1.410000</td>\n      <td>1</td>\n      <td>1</td>\n      <td>0</td>\n    </tr>\n    <tr>\n      <th>124</th>\n      <td>4406278</td>\n      <td>1</td>\n      <td>{'3159': {'scoreET': 0, 'coachId': 20386, 'sid...</td>\n      <td>181248</td>\n      <td>2017-08-19 16:00:00</td>\n      <td>3159</td>\n      <td>2575964</td>\n      <td>Juventus - Cagliari, 3 - 0</td>\n      <td>[{'refereeId': 377263, 'role': 'referee'}, {'r...</td>\n      <td>524</td>\n      <td>Juventus</td>\n      <td>Cagliari</td>\n      <td>3</td>\n      <td>0</td>\n      <td>19/08/17</td>\n      <td>1.147143</td>\n      <td>20.491429</td>\n      <td>1</td>\n      <td>0</td>\n      <td>1</td>\n    </tr>\n  </tbody>\n</table>\n<p>125 rows × 20 columns</p>\n</div>"
     },
     "metadata": {},
     "execution_count": 320
    }
   ],
   "source": [
    "underdog_matches = df_merged[df_merged['UnderdogMatch'] == 1].reset_index(drop=True)\n",
    "underdog_matches"
   ]
  },
  {
   "cell_type": "code",
   "execution_count": null,
   "metadata": {},
   "outputs": [],
   "source": []
  }
 ]
}