{
 "cells": [
  {
   "cell_type": "code",
   "execution_count": 2,
   "id": "loose-respondent",
   "metadata": {},
   "outputs": [],
   "source": [
    "import numpy as np\n",
    "import pandas as pd\n",
    "from scipy.stats import zscore\n"
   ]
  },
  {
   "cell_type": "code",
   "execution_count": 5,
   "id": "closing-campaign",
   "metadata": {},
   "outputs": [],
   "source": [
    "country_list = ['england', 'germany', 'france', 'italy', 'spain']\n",
    "dfs = []\n",
    "for country in country_list:\n",
    "    df_odds = (pd.read_csv(f'/Users/tw/Desktop/Deep_Learning/Project/data/odds/{country}_odds.csv', usecols=['Date', 'HomeTeam', 'AwayTeam', 'FTHG', 'FTAG', 'B365H', 'B365A', 'BWH','BWA', 'IWH', 'IWA', 'LBH', 'LBA', 'PSH','PSA', 'WHH','WHA','VCH', 'VCA'])).rename(columns={'FTHG': 'HomeGoals', 'FTAG': 'AwayGoals'})\n",
    "    df_odds['avgHome'] = df_odds.apply(lambda x: np.mean([x['B365H'], x['BWH'], x['IWH'], x['LBH'], x['PSH'], x['WHH'], x['VCH']]), axis='columns')\n",
    "    df_odds['avgAway'] = df_odds.apply(lambda x: np.mean([x['B365A'], x['BWA'], x['IWA'], x['LBA'], x['PSA'], x['WHA'], x['VCA']]), axis='columns')\n",
    "    df_odds = df_odds.drop(columns=['B365H', 'B365A', 'BWH','BWA', 'IWH', 'IWA', 'LBH', 'LBA', 'PSH','PSA', 'WHH','WHA','VCH', 'VCA'])\n",
    "    dfs.append(df_odds)\n",
    "    \n",
    "df_all = pd.concat(dfs, ignore_index=True)\n",
    "    "
   ]
  },
  {
   "cell_type": "code",
   "execution_count": 16,
   "id": "functional-statement",
   "metadata": {},
   "outputs": [],
   "source": [
    "def team1_favorite(odds1, odds2):\n",
    "    if odds1 < odds2:\n",
    "        return 1\n",
    "    else:\n",
    "        return 0\n",
    "    \n",
    "def team1_winner(score1, score2):\n",
    "    if score1 > score2:\n",
    "        return 1\n",
    "    else:\n",
    "        return 0\n",
    "    \n",
    "df_all['team1_favorite'] = df_all.apply(lambda x: team1_favorite(x['avgHome'], x['avgAway']), axis='columns')\n",
    "df_all['team1_winner'] = df_all.apply(lambda x: team1_winner(x['HomeGoals'], x['AwayGoals']), axis='columns')"
   ]
  },
  {
   "cell_type": "code",
   "execution_count": 26,
   "id": "fabulous-camcorder",
   "metadata": {},
   "outputs": [
    {
     "data": {
      "text/plain": [
       "0.6193866374589266"
      ]
     },
     "execution_count": 26,
     "metadata": {},
     "output_type": "execute_result"
    }
   ],
   "source": [
    "pred_list = list(df_all['team1_winner'] == df_all['team1_favorite'])\n",
    "np.array(pred_list).sum() / len(pred_list)"
   ]
  },
  {
   "cell_type": "code",
   "execution_count": null,
   "id": "occupational-practice",
   "metadata": {},
   "outputs": [],
   "source": []
  }
 ],
 "metadata": {
  "kernelspec": {
   "display_name": "Python 3",
   "language": "python",
   "name": "python3"
  },
  "language_info": {
   "codemirror_mode": {
    "name": "ipython",
    "version": 3
   },
   "file_extension": ".py",
   "mimetype": "text/x-python",
   "name": "python",
   "nbconvert_exporter": "python",
   "pygments_lexer": "ipython3",
   "version": "3.8.5"
  }
 },
 "nbformat": 4,
 "nbformat_minor": 5
}
